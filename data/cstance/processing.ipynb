{
 "cells": [
  {
   "cell_type": "code",
   "execution_count": 1,
   "metadata": {},
   "outputs": [],
   "source": [
    "import pandas as pd"
   ]
  },
  {
   "cell_type": "code",
   "execution_count": 5,
   "metadata": {},
   "outputs": [],
   "source": [
    "targets = [\"face_masks\", \"fauci\", \"school_closures\", \"stay_at_home_orders\"]\n",
    "proper_targets = [\"Face Masks\", \"Anthony Fauci\", \"School Closures\", \"Stay at Home Orders\"]\n",
    "splits = [\"train\", \"val\", \"test\"]\n",
    "\n",
    "for target, proper_target in zip(targets, proper_targets):\n",
    "    for split in splits:\n",
    "        df = pd.read_csv(f\"{target}_{split}.csv\")\n",
    "        # change df.Target into proper_target\n",
    "        df[\"Target\"] = proper_target\n",
    "        df.to_csv(f\"{target}_{split}.csv\", index=False)"
   ]
  }
 ],
 "metadata": {
  "kernelspec": {
   "display_name": "stance",
   "language": "python",
   "name": "python3"
  },
  "language_info": {
   "codemirror_mode": {
    "name": "ipython",
    "version": 3
   },
   "file_extension": ".py",
   "mimetype": "text/x-python",
   "name": "python",
   "nbconvert_exporter": "python",
   "pygments_lexer": "ipython3",
   "version": "3.8.20"
  }
 },
 "nbformat": 4,
 "nbformat_minor": 2
}
